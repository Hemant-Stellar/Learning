{
 "cells": [
  {
   "cell_type": "code",
   "execution_count": 1,
   "metadata": {},
   "outputs": [
    {
     "name": "stdout",
     "output_type": "stream",
     "text": [
      "Requirement already satisfied: nltk in c:\\users\\hp\\desktop\\learning\\machine_learning\\nlp\\.venv\\lib\\site-packages (3.9.1)Note: you may need to restart the kernel to use updated packages.\n",
      "\n",
      "Requirement already satisfied: click in c:\\users\\hp\\desktop\\learning\\machine_learning\\nlp\\.venv\\lib\\site-packages (from nltk) (8.1.7)\n",
      "Requirement already satisfied: joblib in c:\\users\\hp\\desktop\\learning\\machine_learning\\nlp\\.venv\\lib\\site-packages (from nltk) (1.4.2)\n",
      "Requirement already satisfied: regex>=2021.8.3 in c:\\users\\hp\\desktop\\learning\\machine_learning\\nlp\\.venv\\lib\\site-packages (from nltk) (2024.9.11)\n",
      "Requirement already satisfied: tqdm in c:\\users\\hp\\desktop\\learning\\machine_learning\\nlp\\.venv\\lib\\site-packages (from nltk) (4.66.5)\n",
      "Requirement already satisfied: colorama in c:\\users\\hp\\desktop\\learning\\machine_learning\\nlp\\.venv\\lib\\site-packages (from click->nltk) (0.4.6)\n"
     ]
    },
    {
     "name": "stderr",
     "output_type": "stream",
     "text": [
      "[nltk_data] Downloading package punkt to\n",
      "[nltk_data]     C:\\Users\\HP\\AppData\\Roaming\\nltk_data...\n",
      "[nltk_data]   Unzipping tokenizers\\punkt.zip.\n"
     ]
    },
    {
     "data": {
      "text/plain": [
       "True"
      ]
     },
     "execution_count": 1,
     "metadata": {},
     "output_type": "execute_result"
    }
   ],
   "source": [
    "import os\n",
    "import re\n",
    "import random\n",
    "import string\n",
    "import pandas as pd\n",
    "import numpy as np\n",
    "import matplotlib.pyplot as plt\n",
    "from sklearn.model_selection import train_test_split\n",
    "from sklearn.linear_model import LogisticRegression\n",
    "\n",
    "#Setup NLTK\n",
    "%capture\n",
    "%pip install nltk\n",
    "import nltk\n",
    "nltk.download('punkt')\n"
   ]
  },
  {
   "cell_type": "markdown",
   "metadata": {},
   "source": [
    "## EDA"
   ]
  },
  {
   "cell_type": "markdown",
   "metadata": {},
   "source": [
    "### Exploring the Labels"
   ]
  },
  {
   "cell_type": "code",
   "execution_count": null,
   "metadata": {},
   "outputs": [],
   "source": [
    "# Check tweets distribution\n",
    "def pie_chart(dataframe):\n",
    "    # Converting pd object to list of string\n",
    "    label_types = dataframe.Sentiment.unique().astype(str)\n",
    "    \n",
    "    # Count tweets for each label\n",
    "    label_counts = dataframe.Sentiment.value_counts()\n",
    "    print('Labels in the dataset:', label_types)\n",
    "    print(label_counts)\n",
    "    \n",
    "    # Labels for the two classes\n",
    "    labels = label_types  # e.g., 'Positives', 'Negative'\n",
    "    \n",
    "    # Sizes for each slide\n",
    "    sizes = [count for count in label_counts]\n",
    "    \n",
    "    # Declare a figure with a custom size\n",
    "    fig = plt.figure(figsize=(5, 5))\n",
    "    \n",
    "    # Declare pie chart, where the slices will be ordered and plotted counter-clockwise\n",
    "    plt.pie(sizes, labels=labels, autopct='%1.1f%%', \n",
    "            shadow=True, startangle=90)\n",
    "    \n",
    "    # Equal aspect ratio ensures that pie is drawn as a circle\n",
    "    plt.axis('equal')\n",
    "    \n",
    "    # Display the chart\n",
    "    plt.show()\n",
    "    \n",
    "# Example usage\n",
    "pie_chart(dataframe)\n"
   ]
  }
 ],
 "metadata": {
  "kernelspec": {
   "display_name": ".venv",
   "language": "python",
   "name": "python3"
  },
  "language_info": {
   "codemirror_mode": {
    "name": "ipython",
    "version": 3
   },
   "file_extension": ".py",
   "mimetype": "text/x-python",
   "name": "python",
   "nbconvert_exporter": "python",
   "pygments_lexer": "ipython3",
   "version": "3.12.5"
  }
 },
 "nbformat": 4,
 "nbformat_minor": 2
}
